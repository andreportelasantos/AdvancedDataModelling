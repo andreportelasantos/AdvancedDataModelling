{
 "cells": [
  {
   "cell_type": "markdown",
   "metadata": {},
   "source": [
    "## Searching text using Regular Expressions"
   ]
  },
  {
   "cell_type": "markdown",
   "metadata": {},
   "source": [
    "#### Questions & Objectives:\n",
    "\n",
    "- How can I search for tokens in text more flexibly? For example, to find all all mentions of `woman` and `women`, or all words starting with `multi`\n",
    "\n",
    "\n",
    "#### Key Points\n",
    "\n",
    "To search for tokens in text using regular expressions you need the `re` module and its search function.\n",
    "\n",
    "You will learn how to construct regular expressions. E.g. you can use a wildcard * or you can use a range of letters, e.g. [ae] (for a or e), [a-z] (for a to z), or numbers, e.g. [0-9] (for all single digits) etc. Regular expressions can be very powerful if used correctly. To find all mentions of the words woman or women you need to use the following regular expression wom[ae]n."
   ]
  },
  {
   "cell_type": "markdown",
   "metadata": {},
   "source": [
    "Regular expressions are a very powerful tool, but we'll just give you a taster and some examples. For a more detailed overview and use of regular expressions, you can later refer to the Programming Historian lesson Understanding Regular Expressions https://programminghistorian.org/en/lessons/understanding-regular-expressions.\n",
    "\n",
    "**Regular expressions** are ways to be 'a bit vague' about text. (While being increadibly specific at the same time).\n",
    "\n",
    "For example Let's imagine we want to see all tokens that refer to `women` in text. If we were working with a person (not a computer) they might already assume I mean both singlular `woman` and plural `women`. But computers need us to be very very specific, and so we are provided with a way to describe small acceptable difference. This syntax is called regular expressions (RegEx).\n",
    "\n",
    "The way we arrive at regular expressions is a process of specifying what we want:\n",
    "\n",
    "- I could say: give me all occurances of `woman` and `women` and then add them all.\n",
    "- I could say: give me all occurances of `wom*n` where `*` is `a` or `e` \n",
    "- I could use regex to say give me all occurances of `wom[ae]n`\n",
    "- I could use regex to say give me all occurances of `^wom[ae]n$` which also means that there can be nothing before or after these characters, so `superwomen` and `womenhood` will not be included "
   ]
  },
  {
   "cell_type": "markdown",
   "metadata": {},
   "source": [
    "The RegEx we will use is `^wom[ae]n$` and below we explain what it means:\n",
    "\n",
    "- `^` means: start here\n",
    "- `wom` and `n` look for these letters in this order\n",
    "- `[ae]` means: one character from this list, so `[ae]` means one character which is either `a` or `e`\n",
    "- `$` mean: end here\n",
    "\n",
    "This way we can look for the word `women` as well a `woman` in a corpus simultaneously, eg. to find out how many times they occur.\n",
    "\n",
    "Regular Expressions are usually used to define search terms in an 'a bit vague' but also 'very precisely specified' way."
   ]
  },
  {
   "cell_type": "code",
   "execution_count": 2,
   "metadata": {},
   "outputs": [
    {
     "name": "stdout",
     "output_type": "stream",
     "text": [
      "['no', '.', '1111', '(', 'sanitary', ')', ',', 'dated', 'ootacamund', ',', 'the', '6th', 'october', '1876', '.', 'from-the', 'honourable', 'w.', 'hudleston', ',', 'chief', 'secretary', 'to', 'the', 'govern-', 'ment', 'of', 'madras', '.', 'to-the', 'offg', '.', 'secretary', 'to', 'the', 'government', 'of', 'india', '.', 'resolution', 'of', 'government', 'of', 'india', 'no', '.', '1-137', ',', 'dated', '5th']\n"
     ]
    }
   ],
   "source": [
    "from nltk.text import Text\n",
    "from nltk.tokenize import word_tokenize\n",
    "\n",
    "# load a file from Medical_History_of_British_India dataset\n",
    "file = open('74457530.txt') \n",
    "\n",
    "india_raw = file.read() \n",
    "india_tokens = word_tokenize(india_raw) \n",
    "lower_india_tokens = [word.lower() for word in india_tokens] \n",
    "print(lower_india_tokens[0:50] )"
   ]
  },
  {
   "cell_type": "code",
   "execution_count": 3,
   "metadata": {},
   "outputs": [],
   "source": [
    "# run this cell now. It imports Regular Expressions module into this notebook\n",
    "\n",
    "import re"
   ]
  },
  {
   "cell_type": "markdown",
   "metadata": {},
   "source": [
    "Before we use RegEx on on a whole corpus let's first use it on some example data.\n",
    "\n",
    "Say I want to know if a given token matches/fits my RegEx. I can try to 'find' the match to that regex in my string.\n",
    "\n",
    "There are two possible outcomes of searching for a RegEx:\n",
    "\n",
    "- **Found it**: regex did find a match and returns a `re.Match` object (you can think of is as `True`)\n",
    "- **Not Found it**: regex did not find a match and returns `None`  (you can think of is as `False`)\n",
    "\n",
    "Basically, either a particular token fits your regex or it does not."
   ]
  },
  {
   "cell_type": "code",
   "execution_count": 4,
   "metadata": {},
   "outputs": [
    {
     "name": "stdout",
     "output_type": "stream",
     "text": [
      "<re.Match object; span=(0, 5), match='women'>\n",
      "<re.Match object; span=(0, 5), match='woman'>\n",
      "None\n",
      "None\n"
     ]
    }
   ],
   "source": [
    "print(re.search('^wom[ae]n$', \"women\"))\n",
    "print(re.search('^wom[ae]n$', \"woman\"))\n",
    "print(re.search('^wom[ae]n$', \"something\")) # no match\n",
    "print(re.search('^wom[ae]n$', \"superwoman\")) # not exact match, so no match"
   ]
  },
  {
   "cell_type": "markdown",
   "metadata": {},
   "source": [
    "Regex is case-sensitive and that's why we lowercased our tokens first"
   ]
  },
  {
   "cell_type": "code",
   "execution_count": 5,
   "metadata": {},
   "outputs": [
    {
     "name": "stdout",
     "output_type": "stream",
     "text": [
      "<re.Match object; span=(0, 5), match='women'>\n",
      "None\n",
      "None\n"
     ]
    }
   ],
   "source": [
    "print(re.search('^wom[ae]n$', \"women\"))\n",
    "print(re.search('^wom[ae]n$', \"Women\"))\n",
    "print(re.search('^wom[ae]n$', \"WOMEN\"))"
   ]
  },
  {
   "cell_type": "markdown",
   "metadata": {},
   "source": [
    "### mini code recap: keeping only some elements from a list\n",
    "\n",
    "We'll use list comprehention's ability to filter list items using `if something_true_or_false`"
   ]
  },
  {
   "cell_type": "code",
   "execution_count": null,
   "metadata": {},
   "outputs": [],
   "source": [
    "# print uppercase versions of every fruit in fruits\n",
    "fruits = [\"banana\", 'pinapple', 'plums', \"kiwi\"]\n",
    "new_fruits = [fruit.upper() for fruit in fruits]\n",
    "print(new_fruits)"
   ]
  },
  {
   "cell_type": "code",
   "execution_count": null,
   "metadata": {},
   "outputs": [],
   "source": [
    "# for each fruit in fruits, return that fruit.upper(), \n",
    "# but only use items where fruit's first character is 'p'\n",
    "\n",
    "some_fruits = [fruit.upper() for fruit in fruits if fruit[0] == 'p']\n",
    "print(some_fruits)"
   ]
  },
  {
   "cell_type": "code",
   "execution_count": null,
   "metadata": {},
   "outputs": [],
   "source": [
    "# and to do the same thing, but without upper casing the words\n",
    "# for each fruit in fruits, return that fruit's name, \n",
    "# but only use items where fruit's first character is 'p'\n",
    "\n",
    "some_fruits = [fruit for fruit in fruits if fruit[0] == 'p']\n",
    "print(some_fruits)"
   ]
  },
  {
   "cell_type": "markdown",
   "metadata": {},
   "source": [
    "You can use `if fruit[0] == 'p'` because the comparison `fruit[0] == 'p'` returns `True` or `False`."
   ]
  },
  {
   "cell_type": "markdown",
   "metadata": {},
   "source": [
    "### Using RegEx on a List of tokens"
   ]
  },
  {
   "cell_type": "markdown",
   "metadata": {},
   "source": [
    "Because RegEx also returns something like `True` or `False`, We will now use the same mechanism and the fact that re.search() returns something or nothing:"
   ]
  },
  {
   "cell_type": "markdown",
   "metadata": {},
   "source": [
    "Here, like in the above example we will:\n",
    "\n",
    "- filter the items in lower_india_tokens\n",
    "- keep only those which return `True` if we search for our RegEx in them (they match the RegEx)\n",
    "\n",
    "`[word \n",
    "for word in lower_india_tokens \n",
    "if re.search('^wom[ae]n$', word)]`\n",
    "\n",
    "Even thou it is a bit easier to read when split into 3 lines, traditionally we write it in one line:\n",
    "\n",
    "`[word for word in lower_india_tokens if re.search('^wom[ae]n$', word)]`"
   ]
  },
  {
   "cell_type": "code",
   "execution_count": null,
   "metadata": {},
   "outputs": [],
   "source": [
    "womaen_strings = [word for word in lower_india_tokens if re.search('^wom[ae]n$', word)]\n",
    "print(womaen_strings)"
   ]
  },
  {
   "cell_type": "code",
   "execution_count": null,
   "metadata": {},
   "outputs": [],
   "source": [
    "# if your code becomes too hard to read, you can add some new-lines to make it more readable. eg:\n",
    "womaen_strings = [word \n",
    "                  for word in lower_india_tokens\n",
    "                  if re.search('^wom[ae]n$', word)]\n",
    "print(womaen_strings)"
   ]
  },
  {
   "cell_type": "markdown",
   "metadata": {},
   "source": [
    "Let's see how the search results would change if you remove the `^` and `$` characters from the regular expression.\n",
    "\n",
    "Now that the results are stored in a list you can count them. We will see how to do that in the next section of the course."
   ]
  },
  {
   "cell_type": "code",
   "execution_count": null,
   "metadata": {},
   "outputs": [],
   "source": [
    "womaen_strings=[w for w in lower_india_tokens if re.search('wom[ae]n', w)]\n",
    "print(womaen_strings)\n",
    "# there should be at least one new item, can you see it?"
   ]
  },
  {
   "cell_type": "markdown",
   "metadata": {},
   "source": [
    "### 🖇💬Buddy discussion: What would be some useful ways you imagine RegEx could be used in your work/studies?\n",
    "\n",
    "#### Ask your buddy now if they reached the **BUDDY TASK**. Once you both did, complete this task:\n",
    "\n",
    "Can each of you come up with ONE OR TWO EXAMPLES of how the ability to use regular expressions could be useful to you?\n",
    "\n",
    "Don't spend too much time on this (max 2 mins) but take note of your favourite idea."
   ]
  },
  {
   "cell_type": "markdown",
   "metadata": {},
   "source": [
    "### Doing more with Regular Expressions: just a few examples"
   ]
  },
  {
   "cell_type": "markdown",
   "metadata": {},
   "source": [
    "Regural expressions can be very specific and we will not cover them in detail here but they are very powerful to carry out complex searches, e.g. \n",
    "\n",
    "- find all tokens starting with a and are 12 characters long\n",
    "- find all tokens which are 13 characters long but that do not start with a lower case letter \n",
    "\n",
    "Some more RegEx syntax:\n",
    "\n",
    "- `.` means any character\n",
    "- `[abcd]` means a character which is either a, b, c or d\n",
    "- `[a-z]` means a letters between a-z\n",
    "- `[a-zA-Z]` means a letters between a-z and A-Z\n",
    "- `[0-9]` means a digit\n",
    "- `\\d` also means a digit\n",
    "\n",
    "\n",
    "- `*` means zero or more times\n",
    "- `+` means one or more times\n",
    "- `?` means zero or one time\n",
    "- `{5}` means 5 times\n",
    "- `{3,5}` means 3 to 5 times\n",
    "- `[^abc]` means anything but a,b or c\n",
    "\n",
    "Some examples:"
   ]
  },
  {
   "cell_type": "markdown",
   "metadata": {},
   "source": [
    "A four letter word\n",
    "\n",
    "- `^[a-z]...$` means a 4 letter word\n",
    "- `^[a-z]{4}$` also means a 4 letter word"
   ]
  },
  {
   "cell_type": "code",
   "execution_count": null,
   "metadata": {},
   "outputs": [],
   "source": [
    "[word for word in lower_india_tokens if re.search('^[a-z]...$', word)]"
   ]
  },
  {
   "cell_type": "code",
   "execution_count": null,
   "metadata": {},
   "outputs": [],
   "source": [
    "# notice that we are returning the result, rather than printing it, because that puts them one under another\n",
    "# and makes them more readable. If we used print() it would look like this:\n",
    "\n",
    "print([word for word in lower_india_tokens if re.search('^[a-z]...$', word)])"
   ]
  },
  {
   "cell_type": "markdown",
   "metadata": {},
   "source": [
    "Another example: any word starting with 'b', ending with 'y'. \n",
    "\n",
    "As in, between these letters `b` and `y` we expect any-character `.` to appears zero-or-more times `*` (which we write as `.*`)\n",
    "\n",
    "`'^b.*y$'`"
   ]
  },
  {
   "cell_type": "code",
   "execution_count": null,
   "metadata": {},
   "outputs": [],
   "source": [
    "[word for word in lower_india_tokens if re.search('^b.*y$', word)]\n",
    "# replace * with a + to look for one or more letters between b and y, not zero or more"
   ]
  },
  {
   "cell_type": "markdown",
   "metadata": {},
   "source": [
    "### 🐛Minitask: read RegEx with understanding\n",
    "\n",
    "You will wish you have this when solving crossword puzzles.\n",
    "\n",
    "In this task you will see some RegEx's and will try to explain what they do:\n",
    "\n",
    "example, explain RegEx `^[^a-g]..l.ing$`\n",
    "\n",
    "- find all 8 letter words that\n",
    "- do not start with a letters from a to c\n",
    "- and the fourth letter is 'n'\n",
    "- ends with 'ing'\n",
    "\n",
    "Run below code to see it:"
   ]
  },
  {
   "cell_type": "code",
   "execution_count": null,
   "metadata": {},
   "outputs": [],
   "source": [
    "[word for word in lower_india_tokens if re.search('^[^a-c]..n.ing$', word)]"
   ]
  },
  {
   "cell_type": "code",
   "execution_count": null,
   "metadata": {},
   "outputs": [],
   "source": [
    "# Run and explain below code\n",
    "\n",
    "[word for word in lower_india_tokens if re.search('^m[ae]n$', word)]"
   ]
  },
  {
   "cell_type": "code",
   "execution_count": null,
   "metadata": {},
   "outputs": [],
   "source": [
    "[word for word in lower_india_tokens if re.search('^m[ae]n', word)]"
   ]
  },
  {
   "cell_type": "code",
   "execution_count": null,
   "metadata": {},
   "outputs": [],
   "source": [
    "[word for word in lower_india_tokens if re.search('^d.*t$', word)]"
   ]
  },
  {
   "cell_type": "markdown",
   "metadata": {},
   "source": [
    "### 🦋 Extra task (optional): if you have finished everything else already:\n",
    "\n",
    "Either import a corpus that you would like to analyse youself (create a new folder inside of your `./data/` and put your files there), or use one of the two corpuses we looked at in this notebook \n",
    "\n",
    "Then investigate the context of some of the words and use RegEx to look for interesting patterns in it."
   ]
  },
  {
   "cell_type": "code",
   "execution_count": 54,
   "metadata": {},
   "outputs": [
    {
     "name": "stdout",
     "output_type": "stream",
     "text": [
      "25/12/2020\n",
      "25/12/20\n",
      "12/25/2020\n",
      "25-12-2020\n"
     ]
    }
   ],
   "source": [
    "dst1= '25/12/2020\\n25/12/20\\n12/25/2020\\n25-12-2020'\n",
    "print(dst1)"
   ]
  },
  {
   "cell_type": "markdown",
   "metadata": {},
   "source": [
    "- find all elements in dst1\n",
    "\n",
    "for example, return ['25/12/2020', '25/12/20', '12/25/2020', '25-12-2020'] as output"
   ]
  },
  {
   "cell_type": "code",
   "execution_count": null,
   "metadata": {},
   "outputs": [],
   "source": [
    "# your answer here:\n",
    "\n"
   ]
  },
  {
   "cell_type": "markdown",
   "metadata": {},
   "source": [
    "<details><summary style='color:blue'>CLICK HERE TO SEE THE THE ANSWER. BUT BUT REALLY TRY TO DO IT YOURSELF FIRST!</summary>\n",
    "\n",
    "    ### BEGIN SOLUTION\n",
    "    re.findall(r'\\d{1,2}[/-]\\d{1,2}[/-]\\d{2,4}', dst1)\n",
    "    ### END SOLUTION\n",
    "    \n",
    "</details>"
   ]
  },
  {
   "cell_type": "code",
   "execution_count": 56,
   "metadata": {},
   "outputs": [
    {
     "name": "stdout",
     "output_type": "stream",
     "text": [
      "Dec 2020\n",
      "25December 2020\n",
      "Dec 25, 2020\n",
      "December 25, 2020\n",
      "\n"
     ]
    }
   ],
   "source": [
    "dst2 = 'Dec 2020\\n25December 2020\\nDec 25, 2020\\nDecember 25, 2020\\n'\n",
    "print(dst2)"
   ]
  },
  {
   "cell_type": "markdown",
   "metadata": {},
   "source": [
    "- find all elements in dst2\n",
    "\n",
    "for example, return ['Dec 2020', 'December 2020', 'Dec 25, 2020', 'December 25, 2020'] as output"
   ]
  },
  {
   "cell_type": "code",
   "execution_count": null,
   "metadata": {},
   "outputs": [],
   "source": [
    "# your answer here:\n",
    "\n"
   ]
  },
  {
   "cell_type": "markdown",
   "metadata": {},
   "source": [
    "<details><summary style='color:blue'>CLICK HERE TO SEE THE THE ANSWER. BUT BUT REALLY TRY TO DO IT YOURSELF FIRST!</summary>\n",
    "\n",
    "    ### BEGIN SOLUTION\n",
    "    re.findall(r'(?:\\d{1,2} )?(?:Jan|Feb|Mar|Apr|May|Jun|Jul|Aug|Sep|Oct|Nov|Dec)[a-z]* (?:\\d{1,2}, )?\\d{4}', dst2)\n",
    "    ### END SOLUTION\n",
    "    \n",
    "</details>"
   ]
  }
 ],
 "metadata": {
  "kernelspec": {
   "display_name": "Python 3",
   "language": "python",
   "name": "python3"
  },
  "language_info": {
   "codemirror_mode": {
    "name": "ipython",
    "version": 3
   },
   "file_extension": ".py",
   "mimetype": "text/x-python",
   "name": "python",
   "nbconvert_exporter": "python",
   "pygments_lexer": "ipython3",
   "version": "3.8.8"
  }
 },
 "nbformat": 4,
 "nbformat_minor": 2
}
