{
 "cells": [
  {
   "cell_type": "markdown",
   "metadata": {},
   "source": [
    "# Loading text from your notebook or from a website"
   ]
  },
  {
   "cell_type": "markdown",
   "metadata": {},
   "source": [
    "# 1. Loading a text file from your notebook or from a website"
   ]
  },
  {
   "cell_type": "markdown",
   "metadata": {},
   "source": [
    "#### Questions & Objectives:\n",
    "\n",
    "- How can I load a text file from my harddrtive or a website?\n",
    "\n",
    "#### Key Points\n",
    "\n",
    "- To open and read a file on your computer, we use `open()`, `read()` and `close()`\n",
    "- To open and read a file from the internet, we use `urllib.request.urlopen()` and `.read().decode('utf-8')`\n",
    "- once the file is opened, you can store it's contents in a variable"
   ]
  },
  {
   "cell_type": "markdown",
   "metadata": {},
   "source": [
    "Broadly speaking there are two contexts in which we load a text file for analysis:\n",
    "\n",
    "- Local file:  you have your file on your 'virtual computer/haddrive' because you created or downloaded it earlier\n",
    "- Remove file: you access the file directly from some website, 'on the fly', processing it with your code, but never really saving it as your own. (eg. for copyright or convenience reasons)"
   ]
  },
  {
   "cell_type": "markdown",
   "metadata": {},
   "source": [
    "### Loading a local file:\n",
    "\n",
    "First let's load some file from your 'hard drive' - because we are working inside of noteable, it acts as your harddrive. There's a file you downloaded called `inaugural_speech_obama.txt` and it is in the same folder as this notebook, so we're refering to it as `./inaugural_speech_obama.txt` (the `./` means 'same folder as this notebook')"
   ]
  },
  {
   "cell_type": "code",
   "execution_count": 2,
   "metadata": {},
   "outputs": [
    {
     "name": "stdout",
     "output_type": "stream",
     "text": [
      "number of characters: 12389\n",
      "Vice President Biden, Mr. Chief Justice,\n",
      "members o\n",
      "y He forever bless these United States of America.\n"
     ]
    }
   ],
   "source": [
    "file_name = \"./inaugural_speech_obama.txt\"\n",
    "my_file = open(file_name,encoding='utf-8') # open the file. \n",
    "speech = my_file.read() # read content of it and put them in a variable\n",
    "my_file.close() # close the file\n",
    "\n",
    "# after that you have access to that file as text in the speech variable you created\n",
    "print(\"number of characters:\", len(speech)) \n",
    "print(speech[:50]) # first 50 characters\n",
    "print(speech[-50:]) # last 50 characters"
   ]
  },
  {
   "cell_type": "markdown",
   "metadata": {},
   "source": [
    "### Loading a remote (online) file:\n",
    "To read the same file from an online source (like from the white house website) we need to import a url-handling library urllib, but the process is very simmilar"
   ]
  },
  {
   "cell_type": "code",
   "execution_count": 3,
   "metadata": {},
   "outputs": [
    {
     "name": "stdout",
     "output_type": "stream",
     "text": [
      "12389\n",
      "Vice President Biden, Mr. Chief Justice,\n",
      "members o\n",
      "y He forever bless these United States of America.\n"
     ]
    }
   ],
   "source": [
    "import urllib # you have to only do this once\n",
    "link = \"https://raw.githubusercontent.com/drpawelo/efi_text_mining_bootcamp/master/data/inaugural_speech_obama.txt\"\n",
    "my_file = urllib.request.urlopen(link) # download the file (no need to open-close)\n",
    "speech = my_file.read().decode('utf-8') # read and decode content and save it\n",
    "\n",
    "# after that you have access to that file as text.\n",
    "print(len(speech)) # how long is it?\n",
    "print(speech[:50]) # first 50 words\n",
    "print(speech[-50:]) # last 50 words"
   ]
  },
  {
   "cell_type": "markdown",
   "metadata": {},
   "source": [
    "### What's simmilar/different:\n",
    "\n",
    "Notice simmilarities and differences in both methods:\n",
    "\n",
    "**GET LIBRARIES/TOOLS** on top of what python already gives you. You do this only once per notebook.\n",
    "\n",
    "- \n",
    "\n",
    "**OPEN**:Both methods need a mame/address of the file (in folders, or on the website)\n",
    "\n",
    "- local:  `open(file_name)`\n",
    "- remote: `urllib.request.urlopen(link)`\n",
    "\n",
    "**READ**: In both methods once you have access to the file, you need to READ the content of it and put it in a string variable. Notice that remote files can come in various 'encodings' (ways to understand special characters and punctuation), so we usually specify the `UTF-8` (Unicode Transformation Format) for plain english. Another common one is `latin1`\n",
    "\n",
    "- local: `my_file.read()`\n",
    "- remote: `my_file.read().decode('utf-8')`\n",
    "\n",
    "**CLOSE**: only in the local file we need to close it once we've read it. It's so that another script or user can open it later. This works like with all the files on a computer: they can be opened just in one instance at a time.\n",
    "\n",
    "- local: `my_file.close()`"
   ]
  },
  {
   "cell_type": "markdown",
   "metadata": {},
   "source": [
    "### 🐛Minitask\n",
    "\n",
    "Write some python to open the following online file and display the characters between indeses 42380 and 42869 in that file. (don't peak what's in the file). Do you recognise what play this text is from?\n",
    "\n",
    "http://www.gutenberg.org/files/1513/1513-0.txt"
   ]
  },
  {
   "cell_type": "code",
   "execution_count": 7,
   "metadata": {
    "collapsed": true
   },
   "outputs": [],
   "source": [
    "# write your answer here:\n"
   ]
  },
  {
   "cell_type": "markdown",
   "metadata": {},
   "source": [
    "\n",
    "\n",
    "<details><summary style='color:blue'>CLICK HERE TO SEE THE THE ANSWER. BUT BUT REALLY TRY TO DO IT YOURSELF FIRST!</summary>\n",
    "\n",
    "    ### BEGIN SOLUTION\n",
    "    link = \"http://www.gutenberg.org/files/1513/1513-0.txt\"\n",
    "    my_file = urllib.request.urlopen(link)\n",
    "    text = my_file.read().decode('utf-8')\n",
    "\n",
    "    print(text[42380:42869])\n",
    "    ### END SOLUTION\n",
    "    \n",
    "</details>"
   ]
  },
  {
   "cell_type": "code",
   "execution_count": null,
   "metadata": {
    "collapsed": true
   },
   "outputs": [],
   "source": []
  },
  {
   "cell_type": "markdown",
   "metadata": {},
   "source": [
    "source: ls_Text and Data Mining Bootcamp"
   ]
  }
 ],
 "metadata": {
  "kernelspec": {
   "display_name": "Python 3",
   "language": "python",
   "name": "python3"
  },
  "language_info": {
   "codemirror_mode": {
    "name": "ipython",
    "version": 3
   },
   "file_extension": ".py",
   "mimetype": "text/x-python",
   "name": "python",
   "nbconvert_exporter": "python",
   "pygments_lexer": "ipython3",
   "version": "3.8.8"
  }
 },
 "nbformat": 4,
 "nbformat_minor": 2
}
