{
 "cells": [
  {
   "cell_type": "markdown",
   "metadata": {},
   "source": [
    "# In this notebook\n",
    "\n",
    "1. Working with a Corpus (multiple text files)\n",
    "2. Concordance List for a text collection "
   ]
  },
  {
   "cell_type": "markdown",
   "metadata": {},
   "source": [
    "# Working with a Corpus (multiple text files)\n",
    "\n",
    "#### Questions & Objectives:\n",
    "\n",
    "- How can I load a text collection made up of multiple text files and tokenise them?\n",
    "\n",
    "#### Key Points\n",
    "\n",
    "- To read an entire collection of text files you can use the PlaintextCorpusReader class/object provided by NLTK and its words() function to extract all the words from the text in the collection."
   ]
  },
  {
   "cell_type": "code",
   "execution_count": 1,
   "metadata": {},
   "outputs": [
    {
     "name": "stderr",
     "output_type": "stream",
     "text": [
      "[nltk_data] Downloading package punkt to\n",
      "[nltk_data]     C:\\Users\\andre\\AppData\\Roaming\\nltk_data...\n",
      "[nltk_data]   Package punkt is already up-to-date!\n"
     ]
    },
    {
     "data": {
      "text/plain": [
       "True"
      ]
     },
     "execution_count": 1,
     "metadata": {},
     "output_type": "execute_result"
    }
   ],
   "source": [
    "# run this cell now. It's the usual imports of text mining libraries\n",
    "import nltk\n",
    "import numpy\n",
    "import string\n",
    "import matplotlib.pyplot as plt\n",
    "from nltk.tokenize import word_tokenize\n",
    "nltk.download('punkt')"
   ]
  },
  {
   "cell_type": "markdown",
   "metadata": {},
   "source": [
    "Text data comes in different forms. You might want to analyse a document in one file or an entire collection of documents (a corpus) stored in multiple files. You already know how to load a single document, and now you will see how to load an entire folder of text documents (a corpus)."
   ]
  },
  {
   "cell_type": "markdown",
   "metadata": {},
   "source": [
    "### Medical History of British India\n",
    "\n",
    "We will use the Medical History of British India collection provided by the National Libarry of Scotland as an example. It is located under a link below, if you'd like to read more about it, but for this course we have prepared it for you already. You will find it in the sub0folder inside your data folder.\n",
    "\n",
    "https://data.nls.uk/data/digitised-collections/a-medical-history-of-british-india/\n",
    "\n",
    "This dataset forms the first half of the Medical History of British India collection, which itself is part of the broader India Papers collection held by the Library. A Medical History of British India consists of official publications varying from short reports to multi-volume histories related to disease, public health and medical research between circa 1850 to 1950. These are historical sources for a period which witnessed the transition from a humoral to a biochemical tradition, which was based on laboratorial science and document the important breakthroughs in bacteriology, parasitology and the developments of vaccines in a colonial context.\n",
    "\n",
    "This collection has been made available as part of NLS’s DataFoundry platform which provides access to a number of their digitised collections. We are only interested in the text the Medical History of British India collection for this course."
   ]
  },
  {
   "cell_type": "markdown",
   "metadata": {},
   "source": [
    "### Recap: Loading a single file\n",
    "\n",
    "First, just to see one of the files, let's load one individual file and print a few of its tokens:"
   ]
  },
  {
   "cell_type": "code",
   "execution_count": 2,
   "metadata": {},
   "outputs": [
    {
     "name": "stdout",
     "output_type": "stream",
     "text": [
      "['no', '.', '1111', '(', 'sanitary', ')', ',', 'dated', 'ootacamund', ',', 'the', '6th', 'october', '1876', '.', 'from-the', 'honourable', 'w.', 'hudleston', ',', 'chief', 'secretary', 'to', 'the', 'govern-', 'ment', 'of', 'madras', '.', 'to-the', 'offg', '.', 'secretary', 'to', 'the', 'government', 'of', 'india', '.', 'resolution', 'of', 'government', 'of', 'india', 'no', '.', '1-137', ',', 'dated', '5th']\n"
     ]
    }
   ],
   "source": [
    "file = open('./Medical_History_of_British_India/Medical_History_of_British_India/74457530.txt') \n",
    "\n",
    "india_raw = file.read() \n",
    "india_tokens = word_tokenize(india_raw) \n",
    "lower_india_tokens = [word.lower() for word in india_tokens] \n",
    "print(lower_india_tokens[0:50] )"
   ]
  },
  {
   "cell_type": "markdown",
   "metadata": {},
   "source": [
    "### Loading multiple files (a corpus) into a PlaintextCorpusReader object\n",
    "\n",
    "We can do the same for an entire collection of documents (a corpus). Instead of pointing to an individual file, we point to a directory/folder with many text documents in it. We will use the entire Medical History of British India collection as our dataset, which consists of almost 500 text documents stored in a folder.\n",
    "\n",
    "To read the text files in this collection we can use the `PlaintextCorpusReader` python class provided in the corpus package of NLTK that we imported before.\n",
    "\n",
    "You need to specify:\n",
    "\n",
    "- the collection directory name \n",
    "- a wildcard (generic name) for which files to read in the directory (e.g. `*` for all files, or `*.txt` for all text files `74*.txt` for all text files starting with `74`) \n",
    "- a text encoding of the files (in this case `latin1`) to indicate which alphabeth to use.\n",
    "\n",
    "when you use PlaintextCorpusReader it will look like this:\n",
    "\n",
    "`list_of_lists_of_tokens = PlaintextCorpusReader(folder_location, file_wildcard, encoding)`\n",
    "\n",
    "which in our example will look like this:\n",
    "\n",
    "`corpus_reader = PlaintextCorpusReader(\"./Medical_History_of_British_India\", '.*', encoding='latin1') `"
   ]
  },
  {
   "cell_type": "code",
   "execution_count": 3,
   "metadata": {},
   "outputs": [
    {
     "name": "stdout",
     "output_type": "stream",
     "text": [
      "<PlaintextCorpusReader in 'C:\\\\Users\\\\andre\\\\OneDrive - University of Edinburgh\\\\Teaching\\\\PGT\\\\ADM_2022\\\\Notebooks\\\\Previous edition 2020\\\\Week 1\\\\Medical_History_of_British_India\\\\Medical_History_of_British_India'>\n"
     ]
    }
   ],
   "source": [
    "from nltk.corpus import PlaintextCorpusReader\n",
    "corpus_root = \"./Medical_History_of_British_India/Medical_History_of_British_India\"\n",
    "corpus_reader = PlaintextCorpusReader(corpus_root, '.*', encoding='latin1') \n",
    "\n",
    "print(corpus_reader)\n",
    "# the output will make little sense, but do not worry, keep reading"
   ]
  },
  {
   "cell_type": "markdown",
   "metadata": {},
   "source": [
    "When we tried to print our corpus, we saw something like `<PlaintextCorpusReader ... >` instead of a lot of words! Why? That's because the corpus we have loaded into variable `corpus_reader` is more than just a bunch of text variables: \n",
    "\n",
    "What you see when you try to print `corpus_reader` is the brief description of a `PlaintextCorpusReader object`\n",
    "\n",
    "**OBJECT is a type of a variable that combines some storage and some functionality**\n",
    "\n",
    "For example, the `PlaintextCorpusReader` object contains the list of lists of tokens (list of files, and each file is a list of words), and some additional information, and methods we can use. The one we will use the most is the `.words()` method to pull out all the tokens from the corpus.\n",
    "\n",
    "`all_tokens_in_corpus = my_corpus_reader.words()`\n",
    "\n",
    "or in our example:\n",
    "\n",
    "`corpus_tokens = corpus_reader.words() `"
   ]
  },
  {
   "cell_type": "code",
   "execution_count": 4,
   "metadata": {},
   "outputs": [
    {
     "name": "stdout",
     "output_type": "stream",
     "text": [
      "['I', 'have', 'been', 'unable', 'myself', 'to', 'institute', 'any', 'personal', 'enquiry', 'into', 'the', 'matter', ',', 'and', 'can', 'now', 'only', 'forward', 'a', 'summary', 'of', 'the', 'reports', 'of', 'the', 'different', 'Civil', 'Surgeons', 'which', 'have', 'been', 'forwarded', 'to', 'me', 'by', 'Government', '.', 'The', 'accompanying', 'table', 'shews', 'the', 'population', 'of', 'each', 'Registration', 'District', ',', 'and']\n"
     ]
    }
   ],
   "source": [
    "corpus_tokens = corpus_reader.words() \n",
    "print(corpus_tokens[400:450]) "
   ]
  },
  {
   "cell_type": "markdown",
   "metadata": {},
   "source": [
    "#### 🐛Minitask\n",
    "\n",
    "\n",
    "- simulate opening the book in few places and reading a sentende: print a subsection (`your_list[ start : end ] `) of this corpus' tokens. Just make up an index to start reading it, like we did above (we made up the number `450` it has no signifficance).  \n",
    "\n",
    "eg. from the `corpus_tokens` list print 50 tokens starting at 1000th, or 9568th. Notice that it is not th emost efficient way to 'eyeball' the text corpus."
   ]
  },
  {
   "cell_type": "code",
   "execution_count": null,
   "metadata": {},
   "outputs": [],
   "source": [
    "# write your answer here:"
   ]
  },
  {
   "cell_type": "markdown",
   "metadata": {},
   "source": [
    "\n",
    "\n",
    "\n",
    "\n",
    "<details><summary style='color:blue'>CLICK HERE TO SEE THE THE ANSWER. BUT BUT REALLY TRY TO DO IT YOURSELF FIRST!</summary>\n",
    "\n",
    "    ### BEGIN SOLUTION\n",
    "    print(corpus_tokens[1000:1050]) \n",
    "    print(corpus_tokens[9568:9590])\n",
    "    print(corpus_tokens[20000:20050])\n",
    "    ### END SOLUTION\n",
    "\n",
    "</details>\n",
    "\n",
    "\n",
    "\n",
    "\n",
    "\n",
    "\n",
    "\n"
   ]
  },
  {
   "cell_type": "markdown",
   "metadata": {},
   "source": [
    "### Preparing your tokens for analysis (eg. making all words lowercase)\n",
    "### A few words about overwhelming your computer with processing: DO NOT PANIC!\n",
    "\n",
    "Note that this dataset is Quite Large: it contains almost 500 files, 30.000.000 words, and 130.000.000 characters! It's 120MB of data.\n",
    "\n",
    "Still, loading all the files and turning text into tokens takes about 1-2 seconds!\n",
    "\n",
    "But when we lowercase all of the words in this corpus, we run a piece of code which turns every single character of the 130.000.000 characters into its lower case equivalent.\n",
    "\n",
    "`lower_corpus_tokens = [word.lower() for word in corpus_tokens]` \n",
    "\n",
    "But this is not going to happen instantly. Run the below code cell now, and then keep reading.\n",
    "\n",
    "You'll need to be patient, it might take even a minute or more to run. It will look as if your notebook has FROZEN (might stop responding), but it's just busy at work. You will know that the cell is running, because there will be an `In [*]` on the left top of that busy cell, and (on some browsers) the icon on the browser tab will turn into an hour glass.\n",
    "\n",
    "If you have not done it yet, run the below cell now and see what happens."
   ]
  },
  {
   "cell_type": "code",
   "execution_count": 5,
   "metadata": {},
   "outputs": [
    {
     "name": "stdout",
     "output_type": "stream",
     "text": [
      "['i', 'have', 'been', 'unable', 'myself', 'to', 'institute', 'any', 'personal', 'enquiry', 'into', 'the', 'matter', ',', 'and', 'can', 'now', 'only', 'forward', 'a', 'summary', 'of', 'the', 'reports', 'of', 'the', 'different', 'civil', 'surgeons', 'which', 'have', 'been', 'forwarded', 'to', 'me', 'by', 'government', '.', 'the', 'accompanying', 'table', 'shews', 'the', 'population', 'of', 'each', 'registration', 'district', ',', 'and']\n"
     ]
    }
   ],
   "source": [
    "lower_corpus_tokens = [word.lower() for word in corpus_tokens] \n",
    "print(lower_corpus_tokens[400:450]) "
   ]
  },
  {
   "cell_type": "markdown",
   "metadata": {},
   "source": [
    "Here are some things you can do to not have to wait all the time for your code to finish:\n",
    "\n",
    "**We try to do the hardest processing only once, and store the result in a variable, which we use later** (instead of re-doing the processing all the time).\n",
    "\n",
    "And this is exactly what we do above: After the above line of code had finished running, the variable `lower_corpus_tokens` contains all of your tokens as lowercase characters.\n",
    "\n",
    "Accessing the tokens in this variable will take a very short time now, because all the time consuming processing (making things lowercase) is already done, and all the tokens are lowercase already - now we just want to see them."
   ]
  },
  {
   "cell_type": "code",
   "execution_count": 6,
   "metadata": {},
   "outputs": [
    {
     "name": "stdout",
     "output_type": "stream",
     "text": [
      "['i', 'have', 'been', 'unable', 'myself', 'to', 'institute', 'any', 'personal', 'enquiry', 'into', 'the', 'matter', ',', 'and', 'can', 'now', 'only', 'forward', 'a', 'summary', 'of', 'the', 'reports', 'of', 'the', 'different', 'civil', 'surgeons', 'which', 'have', 'been', 'forwarded', 'to', 'me', 'by', 'government', '.', 'the', 'accompanying', 'table', 'shews', 'the', 'population', 'of', 'each', 'registration', 'district', ',', 'and']\n"
     ]
    }
   ],
   "source": [
    "# this will execute almost immediately now, because all the processing \n",
    "# (changing millions of characters) is done, and we are just requesting a sub-set of a (very large) list:\n",
    "\n",
    "print(lower_corpus_tokens[400:450]) "
   ]
  },
  {
   "cell_type": "markdown",
   "metadata": {},
   "source": [
    "Overall, when processing needs to be done, it needs to be done. So don't be scared of it, and when you see the `In [*]` indicator that a cell is processing, just get a cup of tea :)"
   ]
  },
  {
   "cell_type": "markdown",
   "metadata": {},
   "source": [
    "# 2. Concordance List for a text collection (contexts in which tokens appear)\n",
    "\n",
    "#### Questions & Objectives:\n",
    "\n",
    "- How can I load a text collection made up of multiple text files and tokenise them?\n",
    "\n",
    "#### Key Points\n",
    "\n",
    "- A concordance list is a list of all contexts in which a particular token appears in a corpus or text.\n",
    "- A concordance list can be created using the concordance() method of the `Text` class in NLTK."
   ]
  },
  {
   "cell_type": "markdown",
   "metadata": {},
   "source": [
    "Words make a lot of sense in context. Concordance list is a fantastic way to glimpse into the text and see how a particular token is used.\n",
    "\n",
    "Next, we will display concordances for a particular token, i.e. all contexts a particular token appears in. We can do this using the Text class in NLTK’s text package. We can represent our list of lowercased tokens in the document collection loaded previously using the Text class. The concordance list of a token can be displayed using the `.concordance()` method on this class as shown below.\n",
    "\n",
    "Note that the process of aquiring concordance data will take abotu 10 seconds, depending on the how busy your current machine is."
   ]
  },
  {
   "cell_type": "code",
   "execution_count": 7,
   "metadata": {},
   "outputs": [
    {
     "name": "stdout",
     "output_type": "stream",
     "text": [
      "Displaying 25 of 819 matches:\n",
      "s of age , a sweeper , who married a woman who had leprosy , and at the age of \n",
      "e of sitabu , aged 40 , a muhammadan woman . her grand - father and father were\n",
      "ung man deliberately married a leper woman , and became himself a leper at the \n",
      "contrary . in no . 6 a man marries a woman whose grandfather and father had bee\n",
      " lepers . in no . 10 a man marries a woman whose father had died of leprosy . i\n",
      "applies to these cases . in no . 2 a woman marries a man whose father and elder\n",
      "n in the case of a man who marries a woman of notoriously leper family . in no \n",
      "toriously leper family . in no . 5 a woman marries a man whose elder brother wa\n",
      "d continued to cohabit with a native woman after she had been attacked with lep\n",
      "isen from intermarriage of a man and woman in both of whom leprosy was heredita\n",
      "s a leper ; he is now married to the woman , and they both live in the asylum .\n",
      "een accompanied by a healthy looking woman , and by this means , although all h\n",
      "editary transmission . in one case a woman got the disease about two years afte\n",
      " passed their thirtieth year , one a woman about 25 years of age , and the seve\n",
      " fracture of femur in middle third . woman well nourished and skin healthy , no\n",
      " ; had a brother with same disease . woman recovered and able to move about ; o\n",
      "re or less related to each other . a woman got leprosy first from a leprous hus\n",
      "s village assured me that before the woman returned home after her husband ' s \n",
      "against it . this case was that of a woman with two leprous children , aged abo\n",
      "ions had been lepers , who married a woman with tubercular leprosy , he being a\n",
      "t . he was trying to persuade an old woman to submit to treatment by impressing\n",
      "on . case no . 1 \" was that of a gro woman , who had been ill for over a year .\n",
      "ity a typical case of phthisis . the woman ' s complexion was of the ordinary b\n",
      "ng mind . the odour within this poor woman ' s house was very trying . it was d\n",
      "ily . case no . 7 \" is that of a gro woman , said to have had fever for the las\n",
      "None\n"
     ]
    }
   ],
   "source": [
    "from nltk.text import Text\n",
    "text_of_the_corpus = Text(lower_corpus_tokens)\n",
    "print(text_of_the_corpus.concordance('woman'))"
   ]
  },
  {
   "cell_type": "markdown",
   "metadata": {},
   "source": [
    "In the output for the next bit of code which creates a concordance list for the word “he”, we can see that there are many more results in the list than displayed on screen (Displaying 25 of 170 matches). The concordance() method only prints the first 25 results by default (or less if there are less)."
   ]
  },
  {
   "cell_type": "code",
   "execution_count": 8,
   "metadata": {},
   "outputs": [
    {
     "name": "stdout",
     "output_type": "stream",
     "text": [
      "Displaying 25 of 22830 matches:\n",
      "leprosy treated by gurjun oil , which he was able to watch for a length of tim\n",
      " diminished . during these two months he gained three pounds in weight , which\n",
      "does not seem much , considering that he did no work and was fairly well fed o\n",
      "se from jail on the 23rd january 1876 he was again suffering from the sores th\n",
      "n 5th and died on 20th october 1875 . he was seriously ill when he was brought\n",
      "ober 1875 . he was seriously ill when he was brought to the hospital , and cou\n",
      "itted on the 8th september 1875 , and he went home of his own accord on 20th d\n",
      "is own accord on 20th december 1875 . he was much improved under treat - ment \n",
      "evalence of leprosy in the district , he had had but very few opportunities of\n",
      "even half this number . the natives , he says , call every chronic skin diseas\n",
      "in the legs , the feet and the ears . he has perfect taste , hearing , sight a\n",
      "te laboured under it . the leper says he was quite free from leprosy until he \n",
      " he was quite free from leprosy until he associated with this man and took din\n",
      "prosy of 15 years ' standing . states he had first gonorrha , then syphillis ,\n",
      "been affected 6 years ; was well when he married . had two children who died ,\n",
      "ve of the territory beyond the hubb . he had lost some parts of his hands and \n",
      " feet previous to his incarceration . he was treated with large doses of iodid\n",
      "ase be removed . dr . bloomfield says he sent two interesting specimens of thi\n",
      "ant medical college museum , but that he never heard of them after , nor did h\n",
      "e never heard of them after , nor did he discover them in the museum when he v\n",
      "d he discover them in the museum when he visited it afterwards . should the di\n",
      "er and elder sister were lepers , and he himself became a leper at 30 years of\n",
      ". his elder brother was a leper , and he himself became a leper at 32 . his wi\n",
      "one year after she was affected , and he suffered from leprosy . no . 7 .- the\n",
      "ied . afterwards , at the age of 43 , he him - self was attacked with leprosy \n",
      "None\n"
     ]
    }
   ],
   "source": [
    "print(text_of_the_corpus.concordance('he'))"
   ]
  },
  {
   "cell_type": "code",
   "execution_count": 9,
   "metadata": {},
   "outputs": [
    {
     "name": "stdout",
     "output_type": "stream",
     "text": [
      "Displaying 170 of 22830 matches:\n",
      "leprosy treated by gurjun oil , which he was able to watch for a length of tim\n",
      " diminished . during these two months he gained three pounds in weight , which\n",
      "does not seem much , considering that he did no work and was fairly well fed o\n",
      "se from jail on the 23rd january 1876 he was again suffering from the sores th\n",
      "n 5th and died on 20th october 1875 . he was seriously ill when he was brought\n",
      "ober 1875 . he was seriously ill when he was brought to the hospital , and cou\n",
      "itted on the 8th september 1875 , and he went home of his own accord on 20th d\n",
      "is own accord on 20th december 1875 . he was much improved under treat - ment \n",
      "evalence of leprosy in the district , he had had but very few opportunities of\n",
      "even half this number . the natives , he says , call every chronic skin diseas\n",
      "in the legs , the feet and the ears . he has perfect taste , hearing , sight a\n",
      "te laboured under it . the leper says he was quite free from leprosy until he \n",
      " he was quite free from leprosy until he associated with this man and took din\n",
      "prosy of 15 years ' standing . states he had first gonorrha , then syphillis ,\n",
      "been affected 6 years ; was well when he married . had two children who died ,\n",
      "ve of the territory beyond the hubb . he had lost some parts of his hands and \n",
      " feet previous to his incarceration . he was treated with large doses of iodid\n",
      "ase be removed . dr . bloomfield says he sent two interesting specimens of thi\n",
      "ant medical college museum , but that he never heard of them after , nor did h\n",
      "e never heard of them after , nor did he discover them in the museum when he v\n",
      "d he discover them in the museum when he visited it afterwards . should the di\n",
      "er and elder sister were lepers , and he himself became a leper at 30 years of\n",
      ". his elder brother was a leper , and he himself became a leper at 32 . his wi\n",
      "one year after she was affected , and he suffered from leprosy . no . 7 .- the\n",
      "ied . afterwards , at the age of 43 , he him - self was attacked with leprosy \n",
      "was attacked with leprosy in 1870 and he became a leper in 1871 , at the age o\n",
      " leper . his wife became a leper when he was 38 years old ; they continued to \n",
      "they continued to live together , and he himself became a leper at 50 . ?( 10 \n",
      "kely that the man had reason to think he himself was not free from hereditary \n",
      "free from hereditary taint , although he states to the contrary . in no . 6 a \n",
      "ed the disease to contagion , in that he had lived next door to a shopkeeper w\n",
      " his misfortune only by the fact that he had continued to cohabit with a nativ\n",
      "e question of hereditary taint , that he should be inclined to put down \" unkn\n",
      "much hereditary as tuberculosis , and he has no doubt that the families of a m\n",
      ". fitzgerald of intelligent natives , he found the belief prevailing amongst t\n",
      "en years afterwards at bombay , where he had gone to be treated by dr . bhau d\n",
      "es appealed from the saint to me , as he did not seem to favour them . all the\n",
      "n life ; the subject , a khidmatgar . he was much benefitted - he himself decl\n",
      "khidmatgar . he was much benefitted - he himself declared cured - by the gurju\n",
      "er for some time . before many months he shewed signs of leprosy and asked to \n",
      "and asked to be admitted as a leper ; he is now married to the woman , and the\n",
      "is sick . ditto ten years ago . first he noticed the insen sibility of the han\n",
      "xcepting on the top of the head where he had favus . ansthesic , otherwise goo\n",
      "une 1876 . suffered from diarrha when he began to take the oil . says the spot\n",
      "says since the application of the oil he got many ulcers on the soles of both \n",
      "st 1876 . no better . 18th may 1877 . he felt much better when taking carbolic\n",
      "g carbolic acid than gurjun oil which he began to take three months ago . r . \n",
      "he undersigned very much regrets that he had quite overlooked the fact that th\n",
      "us . mr . manook saw no case in which he could trace contagious the cause . pu\n",
      " in mortuary registration area lepers he does not think so ... seems to be mos\n",
      "so assured by an intelligent man that he saw a child born with the characteris\n",
      "now , and a pilgrim from juggurnath . he was brought by the police in a cart t\n",
      "ful state of emaciation and disease . he had , he stated , suffered from lepro\n",
      " of emaciation and disease . he had , he stated , suffered from leprosy for ab\n",
      "elatives are lepers . when admitted , he was literally only bone and skin , an\n",
      " of his feet and palms of his hands . he had lost several fingers and toes , a\n",
      " addition to the gurjun oil treatment he was liberally fed and stimulated . af\n",
      " great part due to the feeding . when he was discharged from hospital , save t\n",
      " the stumps of his fingers and toes , he bore no appearance of being a leper ;\n",
      "skin of the fingers and other signs . he im - proved rapidly and was discharge\n",
      " the last six years . his relatives , he states , are free from leprosy . a ca\n",
      " and denied hereditary taint ; but as he also stated that in his village ( in \n",
      "leprosy at the age of the parent when he first got the disease . i have seen o\n",
      "e by remaining with her husband after he had the disease on him , while three \n",
      "ents were free from the disease , and he had no communication with any other l\n",
      "patient had sores all over the body . he was six days only in hospital . 7 . t\n",
      " mention the type of the disease that he most frequently observed , nor does h\n",
      "e most frequently observed , nor does he seem to have made any enquiry as to w\n",
      "e period to which the report refers . he considers leprosy a very rare disease\n",
      "id to have been caused by contagion . he reports that milkmen , washermen , we\n",
      "he classes most frequently attacked . he does not mention the number of cases \n",
      "es treated during the year , nor does he seem to think that the inhabitants of\n",
      "t brother had the disease , with whom he would lie down or take his food . 3 .\n",
      " labourer by profession , states that he gets ulcers in consequence of self - \n",
      "ontagion from another man , with whom he used to work and sleep together . 5 .\n",
      "y treatment . the patient states that he was attacked with syphilis some 22 ye\n",
      "h syphilis some 22 years before , and he freed himself from the disease with t\n",
      "m no . 33 of 15th january 1877 ; that he finds out within four miles square ab\n",
      "itary cause , and only last two years he is attacked by the disease , and the \n",
      "n his forty - fifth year of age , and he is quite unable to give his own histo\n",
      "is own history , and also stated that he is unacquainted with the cause of the\n",
      "of the disease , and in his childhood he lost his father and mother ; and afte\n",
      " , had only one case of leprosy , and he was released in december last . with \n",
      "ring from was of the ansthetic form ; he had had it for upwards of two years .\n",
      ". the man was about 38 years of age . he was a widower , his wife having died \n",
      " years before the disease commenced . he could trace no family history of the \n",
      "n his wife ' s family . by occupation he was an agriculturist , and by caste a\n",
      "hands and the soles of the feet , and he informed me that the disease first co\n",
      "e loathsomeness of the disease , that he begged of me to keep him apart from t\n",
      "rogress of the disease was arrested . he was a native of this district , had n\n",
      " , & c ., at serajgunge , states that he is unable to furnish information on t\n",
      "rs and sisters .- one leper says that he has two brothers - one is diseased , \n",
      "agion .- from his brother , with whom he came constantly in contact , and who \n",
      "nd before she was a year in the house he got the disease . in the course of si\n",
      "rned home after her husband ' s death he had not seen a leper in that village \n",
      "c patch on forearm just above wrist ; he stated that it came on with numb - ne\n",
      "case there is no hereditary history ; he is a pale hearty man about 55 , and o\n",
      "rjun oil returned home the same day . he stated that he had been suffering fro\n",
      "ed home the same day . he stated that he had been suffering from the disease f\n",
      "dispensary on the 12th october last . he stated he had always enjoyed good hea\n",
      " on the 12th october last . he stated he had always enjoyed good health up to \n",
      "alth up to his eighteenth year , when he contracted syphilis , and that during\n",
      "at during the following twelve months he was in the hands of the native physic\n",
      " from the effects of mercurialization he first noticed and complained of numbn\n",
      "r in the jail amongst 375 prisoners ; he is undergoing a sentence of ten years\n",
      " undergoing a sentence of ten years . he is a garo from shushung at the foot o\n",
      "shung at the foot of the garo hills . he says that his father suffered from le\n",
      "e rest of his family except himself . he was a leper on admission to the jail \n",
      "ssion to the jail eight years since . he says that leprosy exists , but it is \n",
      "f caladium ) and other jungle roots . he asserts that he can distinguish an in\n",
      " other jungle roots . he asserts that he can distinguish an inhabitant of eith\n",
      "part of k ?( 38 ) the abdomen , which he says is characteristic . there is als\n",
      "to any hereditary or venereal taint . he states , however , that his wife and \n",
      " tubercular form was well exhibited ; he was a stout , powerfully built man wi\n",
      " who has been in orissa since birth . he is a native gentleman of remarkably s\n",
      "marked on arterior aspect of thighs . he cannot recognize number of points of \n",
      "rcles on face not so prominent ; says he feels his body lighter ; appetite imp\n",
      "ntment bis .; attended only one day ; he gains his livelihood by begging , and\n",
      "ruption with exudation on left hand ; he can flex and extend its fingers easil\n",
      " and extend its fingers easily ; says he has had the disease three years . has\n",
      "f left hand much less ; can feel when he is touched ; several small spots on t\n",
      "re were symptoms of improvement , but he had no patience to go on with the med\n",
      "ails of eight cases , in six of which he elicited a family taint . dr . ghose \n",
      "of behar is of no value whatever , as he has apparently ( 3 ) classed as cases\n",
      "ndmother of his mother ' s side , and he contracted the disease some time afte\n",
      "of jodpur , and bunnea by caste , and he inherited the disease from his mother\n",
      "able , or in some other clean water ; he seldom takes fish or meat ; while the\n",
      "y predecessor , dr . thornton , which he communicated to you in his letter no \n",
      "r no . 32 of the 30th june 1875 , and he was civil surgeon of shahabad for ove\n",
      " no copy can be found in the office . he would willingly send in a return shew\n",
      "eturn would be useless . dr . gayer , he believes , has previously reported to\n",
      "hs ' imprisonment at goalundo , where he was employed in the railway ; the oth\n",
      "t i did not see him lately ; probably he is dead . no . 1342 , dated shillong \n",
      "mined into by the civil surgeon , but he took no account of the population of \n",
      "arrying : \" two lepers are related \", he writes , \" to each other , and there \n",
      "er of whom , nor his wife , from whom he is separated since the disease commen\n",
      " white leprosy , says of himself that he first observed the disease 20 years a\n",
      "other leper in his family , as far as he knows , nor his village ; says he is \n",
      " as he knows , nor his village ; says he is married , and , has two boys , age\n",
      "her husband for the last five years ; he has not got the disease , and the chi\n",
      "ife and two sons , all healthy . says he was all right till about three years \n",
      " no brothers or sisters . states that he has had leprosy for four years . the \n",
      "587 of 16th ultimo , begs to say that he has no further remarks to offer regar\n",
      "o offer regarding leprosy beyond what he has said in the reports he has alread\n",
      "eyond what he has said in the reports he has already furnished . a . cameron ,\n",
      "ad a nephew , who was an albino , but he is dead . taking the two lepers who a\n",
      "?( 32 ) healthy ; two were born after he had contracted the disease , and have\n",
      " , but cohabits with no . 4 , by whom he has had two sons , both died in early\n",
      "tion it proved very efficacious , but he was not encour - aged to continue int\n",
      "is frequent tours on vaccination work he has met with very few sufferers . he \n",
      " he has met with very few sufferers . he gives the details of ten cases which \n",
      "e course of his tours in the district he met with only two other lepers ; of t\n",
      "ied a woman with tubercular leprosy , he being at the time in ignorance as to \n",
      " after coming under his observation . he is unable from per - sonal experience\n",
      "considers the remedy to be \" the best he has ever employed \", that its persist\n",
      "e progress of every form of leprosy . he is , however , unable to express a de\n",
      "was not followed by any improvement . he considers poverty and diet to be exci\n",
      " discontinued attendance . patients , he states , object strongly to the conti\n",
      ". goalpara .- dr . slane reports that he has personally tried the remedy on on\n",
      "firming evidence from natives , who , he supposes , dread the social ostracism\n",
      "d , but the civil surgeon states that he has not met with any case in which a \n",
      "ills .- the civil surgeon states that he has been unable to discover the exist\n",
      "tunities for testing the experiment . he considers that it could be more compl\n",
      "ergoing a long term of imprisonment . he records twenty - two cases , in which\n",
      "the civil surgeon , amraoti , regrets he cannot give the information . he cann\n",
      "rets he cannot give the information . he cannot get about . he has asked deput\n",
      "e information . he cannot get about . he has asked deputy commissioner for the\n",
      "it is his duty to give it as fully as he can , or to say he cannot give it , w\n",
      "ive it as fully as he can , or to say he cannot give it , while from this corr\n",
      "istance in search of medical relief . he would therefore be in - clined for th\n",
      "None\n"
     ]
    }
   ],
   "source": [
    "# You can specify the number of lines using \n",
    "# an additional lines parameter, e.g.:\n",
    "print(text_of_the_corpus.concordance('he', lines=170))\n",
    "\n",
    "# notice that when the result of a cell is too long, it will become it's own little scrollable window"
   ]
  },
  {
   "cell_type": "markdown",
   "metadata": {},
   "source": [
    "#### 🐛Minitask: combining together what we learned so far\n",
    "\n",
    "This task will require you to copy-paste and adjust various lines of code from this notebook. We will load and analyse a collection of Barack Obama speeches. \n",
    "\n",
    "- load a new corpus: a few selected speeches of Barack Obama located in the folder `./data/barack_obama_speeches`. \n",
    "- turn corpus data into tokens (with `.words()`)\n",
    "- lowercase all the tokens using list comprehention loop (`[output for something in list_of somethings]`) and `.lower()`\n",
    "- `from nltk.text import Text` and create a Text object from the lowercased tokens with  `Text( your_lowercased_tokens )`\n",
    "- create concordance lists for some words that you find interesting, eg. 'hope', 'can', 'people'"
   ]
  },
  {
   "cell_type": "code",
   "execution_count": null,
   "metadata": {},
   "outputs": [],
   "source": [
    "# white your answer here:\n"
   ]
  },
  {
   "cell_type": "markdown",
   "metadata": {},
   "source": [
    "\n",
    "\n",
    "<details><summary style='color:blue'>CLICK HERE TO SEE THE THE ANSWER. BUT BUT REALLY TRY TO DO IT YOURSELF FIRST!</summary>\n",
    "\n",
    "    ### BEGIN SOLUTION\n",
    "    corpus_root = \"./barack_obama_speeches\"\n",
    "    corpus_data = PlaintextCorpusReader(corpus_root, '.*', encoding='latin1') \n",
    "    corpus_tokens = corpus_data.words()\n",
    "    corpus_text_object = Text(corpus_tokens)\n",
    "    print(corpus_text_object[:50])\n",
    "    print(corpus_text_object.concordance('people'))\n",
    "    ### END SOLUTION\n",
    "\n",
    "</details>\n",
    "\n",
    "\n",
    "\n",
    "\n",
    "\n",
    "\n",
    "\n"
   ]
  },
  {
   "cell_type": "markdown",
   "metadata": {},
   "source": [
    "source: ls_Text and Data Mining Bootcamp"
   ]
  }
 ],
 "metadata": {
  "kernelspec": {
   "display_name": "Python 3",
   "language": "python",
   "name": "python3"
  },
  "language_info": {
   "codemirror_mode": {
    "name": "ipython",
    "version": 3
   },
   "file_extension": ".py",
   "mimetype": "text/x-python",
   "name": "python",
   "nbconvert_exporter": "python",
   "pygments_lexer": "ipython3",
   "version": "3.8.8"
  }
 },
 "nbformat": 4,
 "nbformat_minor": 2
}
