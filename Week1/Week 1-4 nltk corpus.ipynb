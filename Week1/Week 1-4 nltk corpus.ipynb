{
 "cells": [
  {
   "cell_type": "markdown",
   "metadata": {},
   "source": [
    "## Basic NLP Tasks with NLTK"
   ]
  },
  {
   "cell_type": "markdown",
   "metadata": {},
   "source": [
    "`nltk` package has its own text collection. \n",
    "\n",
    "We can use comment `nltk.download()` to download the NLTK Book Collection.\n",
    "\n",
    "The full collection of data is very large (>2G). Thus we only select the one we use -- 'book' -- for this notebook.\n",
    "\n",
    "If run the following comment \n",
    "`>>> import nltk`\n",
    "`>>> nltk.download()`\n",
    "The NLTK downloader will be activated and allow us to download or update the library.\n",
    "\n",
    "**To download the `book` module:**\n",
    "- run comments \n",
    "    `>>> import nltk`\n",
    "    `>>> nltk.download()`\n",
    "- type in the blank `Downloader> d `, then press 'Enter'\n",
    "- type in the blank `Identifier> book `, then press 'Enter'\n",
    "- After printing the downloading message, it loads the text of several books (this will take a few seconds).\n",
    "- remember to quit the NLTK downloader:\n",
    "    type in the blank `Downloader> q`, then press 'Enter'\n",
    "\n",
    "\n",
    "\n",
    "**Note:** \n",
    "If do this on your computer, you only need it once. Check the following nltk documentation for details.\n",
    "https://www.nltk.org/book/ch01.html"
   ]
  },
  {
   "cell_type": "code",
   "execution_count": null,
   "metadata": {},
   "outputs": [],
   "source": [
    "import nltk\n",
    "nltk.download()"
   ]
  },
  {
   "cell_type": "markdown",
   "metadata": {},
   "source": [
    "Now we can use the corpora in the nltk `book` module.\n",
    "\n",
    "The `book` module contains 9 texts and 9 sentences.\n",
    "\n",
    "You can type their names to check corresponding content."
   ]
  },
  {
   "cell_type": "code",
   "execution_count": null,
   "metadata": {},
   "outputs": [],
   "source": [
    "# this will take a few seconds.\n",
    "from nltk.book import *"
   ]
  },
  {
   "cell_type": "markdown",
   "metadata": {},
   "source": [
    "**Corpora in Other Languages**\n",
    "\n",
    "\n",
    "For example, the Universal Declaration of Human Rights in over 300 languages.\n",
    "\n",
    "For more details, see documentation:\n",
    "http://www.ling.helsinki.fi/kit/2009s/clt231/NLTK/book/ch02-AccessingTextCorporaAndLexicalResources.html"
   ]
  },
  {
   "cell_type": "code",
   "execution_count": null,
   "metadata": {},
   "outputs": [],
   "source": [
    "from nltk.corpus import udhr\n",
    "nltk.corpus.udhr.fileids()"
   ]
  },
  {
   "cell_type": "code",
   "execution_count": null,
   "metadata": {},
   "outputs": [],
   "source": [
    "nltk.corpus.udhr.words('Chinese_Mandarin-GB2312')"
   ]
  },
  {
   "cell_type": "markdown",
   "metadata": {},
   "source": [
    "### Corpora\n",
    "Let's try with the whole Gutenberg corpus, which contains some 25,000 free electronic books"
   ]
  },
  {
   "cell_type": "code",
   "execution_count": 5,
   "metadata": {},
   "outputs": [
    {
     "name": "stdout",
     "output_type": "stream",
     "text": [
      "['austen-emma.txt', 'austen-persuasion.txt', 'austen-sense.txt', 'bible-kjv.txt', 'blake-poems.txt', 'bryant-stories.txt', 'burgess-busterbrown.txt', 'carroll-alice.txt', 'chesterton-ball.txt', 'chesterton-brown.txt', 'chesterton-thursday.txt', 'edgeworth-parents.txt', 'melville-moby_dick.txt', 'milton-paradise.txt', 'shakespeare-caesar.txt', 'shakespeare-hamlet.txt', 'shakespeare-macbeth.txt', 'whitman-leaves.txt']\n"
     ]
    },
    {
     "name": "stderr",
     "output_type": "stream",
     "text": [
      "[nltk_data] Downloading package gutenberg to\n",
      "[nltk_data]     C:\\Users\\andre\\AppData\\Roaming\\nltk_data...\n",
      "[nltk_data]   Package gutenberg is already up-to-date!\n"
     ]
    }
   ],
   "source": [
    "# need to run this the first time you open the code\n",
    "nltk.download('gutenberg')\n",
    "print(nltk.corpus.gutenberg.fileids())"
   ]
  },
  {
   "cell_type": "markdown",
   "metadata": {},
   "source": [
    "Storing and printing the separate words in Emma by Jane Austen"
   ]
  },
  {
   "cell_type": "code",
   "execution_count": 6,
   "metadata": {},
   "outputs": [
    {
     "name": "stdout",
     "output_type": "stream",
     "text": [
      "['[', 'Emma', 'by', 'Jane', 'Austen', '1816', ']', ...]\n",
      "No of words: 192427\n"
     ]
    }
   ],
   "source": [
    "emma_words = nltk.corpus.gutenberg.words('austen-emma.txt')\n",
    "# list of words\n",
    "print(emma_words)\n",
    "print(\"No of words: \"+str(len(emma_words)))"
   ]
  },
  {
   "cell_type": "markdown",
   "metadata": {},
   "source": [
    "Storing and printing the separate sentences (as lists) in Emma by Jane Austen"
   ]
  },
  {
   "cell_type": "code",
   "execution_count": 7,
   "metadata": {},
   "outputs": [
    {
     "name": "stdout",
     "output_type": "stream",
     "text": [
      "[['[', 'Emma', 'by', 'Jane', 'Austen', '1816', ']'], ['VOLUME', 'I'], ...]\n",
      "No of sentences: 7752\n"
     ]
    }
   ],
   "source": [
    "#the first time you open the code, run nltk.download('punkt')\n",
    "#nltk.download('punkt')\n",
    "emma_sens = nltk.corpus.gutenberg.sents('austen-emma.txt')\n",
    "# list of list of words\n",
    "print(emma_sens)\n",
    "print(\"No of sentences: \"+str(len(emma_sens)))"
   ]
  },
  {
   "cell_type": "markdown",
   "metadata": {},
   "source": [
    "Storing and printing the separate sentences (as lists) in Emma by Jane Austen"
   ]
  },
  {
   "cell_type": "code",
   "execution_count": 8,
   "metadata": {},
   "outputs": [
    {
     "name": "stdout",
     "output_type": "stream",
     "text": [
      "[['[', 'Emma', 'by', 'Jane', 'Austen', '1816', ']'], ['VOLUME', 'I'], ...]\n",
      "No of sentences: 7752\n"
     ]
    }
   ],
   "source": [
    "emma_sens = nltk.corpus.gutenberg.sents('austen-emma.txt')\n",
    "# list of list of words\n",
    "print(emma_sens)\n",
    "print(\"No of sentences: \"+str(len(emma_sens)))"
   ]
  },
  {
   "cell_type": "code",
   "execution_count": null,
   "metadata": {},
   "outputs": [],
   "source": []
  }
 ],
 "metadata": {
  "kernelspec": {
   "display_name": "Python 3",
   "language": "python",
   "name": "python3"
  },
  "language_info": {
   "codemirror_mode": {
    "name": "ipython",
    "version": 3
   },
   "file_extension": ".py",
   "mimetype": "text/x-python",
   "name": "python",
   "nbconvert_exporter": "python",
   "pygments_lexer": "ipython3",
   "version": "3.8.8"
  }
 },
 "nbformat": 4,
 "nbformat_minor": 2
}
