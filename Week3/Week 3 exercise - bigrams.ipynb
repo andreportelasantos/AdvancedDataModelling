{
 "cells": [
  {
   "cell_type": "markdown",
   "metadata": {},
   "source": [
    "## How to create Bigram"
   ]
  },
  {
   "cell_type": "markdown",
   "metadata": {},
   "source": [
    "Find the 20 most frequent bigrams in Emma by Jane Austen."
   ]
  },
  {
   "cell_type": "code",
   "execution_count": 1,
   "metadata": {},
   "outputs": [
    {
     "name": "stdout",
     "output_type": "stream",
     "text": [
      "[((',', 'and'), 1879), (('Mr', '.'), 1153), ((\"'\", 's'), 932), ((';', 'and'), 866), (('.\"', '\"'), 757), (('Mrs', '.'), 699), (('to', 'be'), 595), (('.', 'I'), 570), ((',', 'I'), 568), (('of', 'the'), 556), (('in', 'the'), 434), ((';', 'but'), 427), (('.', 'Weston'), 426), (('.', '\"'), 415), (('.', 'She'), 413), ((',', '\"'), 398), (('I', 'am'), 395), (('.', 'Elton'), 381), ((',', 'that'), 359), (('had', 'been'), 308)]\n"
     ]
    }
   ],
   "source": [
    "import nltk\n",
    "from nltk.corpus import wordnet as wn\n",
    "\n",
    "emma_words = nltk.corpus.gutenberg.words('austen-emma.txt')\n",
    "\n",
    "# find 20 most frequent bigrams\n",
    "# your answer here\n",
    "\n",
    "# print the top 20 most common bigrams and get"
   ]
  },
  {
   "cell_type": "markdown",
   "metadata": {},
   "source": [
    "<details><summary style='color:blue'>CLICK HERE TO SEE THE THE ANSWER. BUT BUT REALLY TRY TO DO IT YOURSELF FIRST!</summary>\n",
    "\n",
    "    ### BEGIN SOLUTION\n",
    "    bigrams = [b for b in nltk.bigrams(emma_words)]\n",
    "    freq_bigrams = nltk.FreqDist(bigrams)\n",
    "    print(freq_bigrams.most_common(20))    \n",
    "    ### END SOLUTION\n",
    "\n",
    "</details>\n"
   ]
  }
 ],
 "metadata": {
  "kernelspec": {
   "display_name": "Python 3",
   "language": "python",
   "name": "python3"
  },
  "language_info": {
   "codemirror_mode": {
    "name": "ipython",
    "version": 3
   },
   "file_extension": ".py",
   "mimetype": "text/x-python",
   "name": "python",
   "nbconvert_exporter": "python",
   "pygments_lexer": "ipython3",
   "version": "3.7.6"
  }
 },
 "nbformat": 4,
 "nbformat_minor": 2
}
