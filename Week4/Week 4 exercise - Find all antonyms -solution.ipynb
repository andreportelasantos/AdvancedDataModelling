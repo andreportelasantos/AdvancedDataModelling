{
 "cells": [
  {
   "cell_type": "markdown",
   "metadata": {},
   "source": [
    "## Exercise"
   ]
  },
  {
   "cell_type": "markdown",
   "metadata": {},
   "source": [
    "Find all antonyms of the different lemmas of “good” in the following sentence: “He was very bad evil and aggressive”."
   ]
  },
  {
   "cell_type": "code",
   "execution_count": 6,
   "metadata": {},
   "outputs": [
    {
     "name": "stdout",
     "output_type": "stream",
     "text": [
      "Antonyms:  [Lemma('evil.n.03.evil'), Lemma('bad.n.01.bad'), Lemma('bad.a.01.bad'), Lemma('evil.a.01.evil')]\n",
      "bad is an antonym\n",
      "evil is an antonym\n"
     ]
    }
   ],
   "source": [
    "import nltk\n",
    "from nltk.corpus import wordnet as wn\n",
    "\n",
    "good = \"good\"\n",
    "sentence = \"He was very bad evil and aggressive\"\n",
    "\n",
    "# find antonyms of lemmas\n",
    "antonyms = []\n",
    "for lemma in wn.lemmas('good'):\n",
    "    for anto in lemma.antonyms():\n",
    "        antonyms.append(anto)\n",
    "    \n",
    "print('Antonyms: ', antonyms)\n",
    "\n",
    "# find words that are antonyms in the sentence\n",
    "for word in sentence.split(\" \"):\n",
    "    for lemma in wn.lemmas(word):\n",
    "        if lemma in antonyms:\n",
    "            print(word + \" is an antonym\")\n",
    "            break"
   ]
  }
 ],
 "metadata": {
  "kernelspec": {
   "display_name": "Python 3",
   "language": "python",
   "name": "python3"
  },
  "language_info": {
   "codemirror_mode": {
    "name": "ipython",
    "version": 3
   },
   "file_extension": ".py",
   "mimetype": "text/x-python",
   "name": "python",
   "nbconvert_exporter": "python",
   "pygments_lexer": "ipython3",
   "version": "3.7.6"
  }
 },
 "nbformat": 4,
 "nbformat_minor": 2
}
