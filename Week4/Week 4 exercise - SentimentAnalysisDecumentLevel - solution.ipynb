{
 "cells": [
  {
   "cell_type": "markdown",
   "metadata": {},
   "source": [
    "## Exercise"
   ]
  },
  {
   "cell_type": "markdown",
   "metadata": {},
   "source": [
    "Calculate the sentiment of a review by extracting the overall sentiment out of the sentences."
   ]
  },
  {
   "cell_type": "code",
   "execution_count": 1,
   "metadata": {},
   "outputs": [
    {
     "name": "stdout",
     "output_type": "stream",
     "text": [
      "\n",
      " Review1.txt \n",
      "\n",
      "Sentence:  Purchased this phone about 2 months ago and i have never been so dissapointed , not durable having smashed at a knee height drop, the touchscreen gradually ceased to work ontop of it constantly crashing and freezing even before the drop, my galaxy s6 was such faster and durable.    ->  -0.5574\n",
      "Sentence:  Do not waste your money people.    ->  0.3252\n",
      "Review  Review1.txt  is overall negative  -0.23220000000000002\n",
      "\n",
      " Review2.txt \n",
      "\n",
      "Sentence:  I purchased this phone a month and a half ago and it is no longer working.    ->  -0.296\n",
      "Sentence:  apps are slow and freeze the phone constantly.    ->  0.0516\n",
      "Sentence:  through no fault of my own the phone decided it will no longer charge.    ->  -0.7269\n",
      "Sentence:  it has a faulty charger input.    ->  -0.3182\n",
      "Sentence:  I would expect this towards the end of my contract not at the beginning!    ->  0.0\n",
      "Sentence:  customer service was unhelpful and the problem is still not resolved.    ->  -0.497\n",
      "Sentence:  would 100% not recommend, i will not be buying samsung products again.    ->  -0.2755\n",
      "Review  Review2.txt  is overall negative  -2.062\n",
      "\n",
      " Review3.txt \n",
      "\n",
      "Sentence:  ive bought this phone 5 times!    ->  0.0\n",
      "Sentence:  YNWA class act cheers samsung, United<3    ->  0.4767\n",
      "Review  Review3.txt  is overall positive  0.4767\n",
      "\n",
      " Review4.txt \n",
      "\n",
      "Sentence:  Upgraded from S6 edge+ to S8+ and I am not disappointed.    ->  0.3724\n",
      "Sentence:  Super fast and very stylish, crisp display and lots of storage capabilities.    ->  0.5994\n",
      "Sentence:  Takes perfect pictures every time and great for gaming on.    ->  0.8316\n",
      "Sentence:  I would recommend Samsung S Range over iphone anyday.    ->  0.3612\n",
      "Sentence:  Go get the S8+    ->  0.0\n",
      "Review  Review4.txt  is overall positive  2.1646\n"
     ]
    }
   ],
   "source": [
    "import os\n",
    "import nltk\n",
    "from os import listdir\n",
    "from nltk.tokenize import sent_tokenize\n",
    "from nltk.sentiment.vader import SentimentIntensityAnalyzer as SIA\n",
    "\n",
    "# read files\n",
    "files = [f for f in listdir(os.getcwd()) if 'Review' in f]\n",
    "\n",
    "for f in files:\n",
    "    file = open(f, 'r')\n",
    "    \n",
    "    print('\\n', f, '\\n')\n",
    "\n",
    "    text = \"\"\n",
    "    for line in file:\n",
    "        text = text+line\n",
    "    sentences = sent_tokenize(text) # split at sentence level\n",
    "    \n",
    "    sid = SIA()\n",
    "    sentiment = 0\n",
    "    \n",
    "    # loop the sentences\n",
    "    for sen in sentences:\n",
    "        ss = sid.polarity_scores(sen)\n",
    "        print('Sentence: ', sen, '   -> ', ss['compound'])\n",
    "        sentiment += ss['compound']\n",
    "\n",
    "    if sentiment < 0:\n",
    "        print('Review ',f, ' is overall negative ', sentiment)\n",
    "    elif sentiment == 0:\n",
    "        print('Review ', f, ' is overall neutral')\n",
    "    else:\n",
    "        print('Review ', f, ' is overall positive ', sentiment)"
   ]
  },
  {
   "cell_type": "code",
   "execution_count": null,
   "metadata": {},
   "outputs": [],
   "source": []
  }
 ],
 "metadata": {
  "kernelspec": {
   "display_name": "Python 3",
   "language": "python",
   "name": "python3"
  },
  "language_info": {
   "codemirror_mode": {
    "name": "ipython",
    "version": 3
   },
   "file_extension": ".py",
   "mimetype": "text/x-python",
   "name": "python",
   "nbconvert_exporter": "python",
   "pygments_lexer": "ipython3",
   "version": "3.8.8"
  }
 },
 "nbformat": 4,
 "nbformat_minor": 2
}
