{
 "cells": [
  {
   "cell_type": "markdown",
   "metadata": {},
   "source": [
    "## Exercise"
   ]
  },
  {
   "cell_type": "markdown",
   "metadata": {},
   "source": [
    "Calculate the sentiment of a review by extracting the overall sentiment out of the sentences.\n",
    "\n",
    "Requires documents Review1.txt to Review4.txt\n",
    "\n",
    "Hints:\n",
    "\n",
    "``from nltk.tokenize import sent_tokenize``\n",
    "\n",
    "``sent_tokenize() # this function helps to split at sentence level``"
   ]
  },
  {
   "cell_type": "code",
   "execution_count": null,
   "metadata": {},
   "outputs": [],
   "source": [
    "import os\n",
    "import nltk\n",
    "from os import listdir\n",
    "from nltk.tokenize import sent_tokenize\n",
    "from nltk.sentiment.vader import SentimentIntensityAnalyzer as SIA\n",
    "\n",
    "# read files\n",
    "files = [f for f in listdir(os.getcwd()) if 'Review' in f]\n",
    "\n",
    "for f in files:\n",
    "    file = open(f, 'r')\n",
    "    \n",
    "    print('\\n', f, '\\n')\n",
    "\n",
    "    text = \"\"\n",
    "    for line in file:\n",
    "        text = text+line\n",
    "    \n",
    "    sentiment = 0\n",
    "    # loop the sentences\n",
    "    #...\n",
    "    \n",
    "    if sentiment < 0:\n",
    "        print('Review ',f, ' is overall negative ', sentiment)\n",
    "    elif sentiment == 0:\n",
    "        print('Review ', f, ' is overall neutral')\n",
    "    else:\n",
    "        print('Review ', f, ' is overall positive ', sentiment)"
   ]
  }
 ],
 "metadata": {
  "kernelspec": {
   "display_name": "Python 3",
   "language": "python",
   "name": "python3"
  },
  "language_info": {
   "codemirror_mode": {
    "name": "ipython",
    "version": 3
   },
   "file_extension": ".py",
   "mimetype": "text/x-python",
   "name": "python",
   "nbconvert_exporter": "python",
   "pygments_lexer": "ipython3",
   "version": "3.7.6"
  }
 },
 "nbformat": 4,
 "nbformat_minor": 2
}
