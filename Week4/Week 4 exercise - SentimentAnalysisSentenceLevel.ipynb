{
 "cells": [
  {
   "cell_type": "markdown",
   "metadata": {
    "collapsed": true
   },
   "source": [
    "## Exercise"
   ]
  },
  {
   "cell_type": "markdown",
   "metadata": {},
   "source": [
    "Use NLTK to calculate the sentiment of the following sentences using the average of SentiWordNet, and using VADER."
   ]
  },
  {
   "cell_type": "markdown",
   "metadata": {},
   "source": [
    "Load the libraries:"
   ]
  },
  {
   "cell_type": "code",
   "execution_count": null,
   "metadata": {},
   "outputs": [],
   "source": [
    "import nltk\n",
    "from nltk.corpus import wordnet as wn\n",
    "from nltk.stem import WordNetLemmatizer\n",
    "from nltk.corpus import sentiwordnet as swn"
   ]
  },
  {
   "cell_type": "code",
   "execution_count": null,
   "metadata": {},
   "outputs": [],
   "source": [
    "sen1 = \"The Harry Potter Series are terribly written and disappointing :(.\"\n",
    "sen2 = \"The Harry Potter Series are brilliant, well written and funny.\""
   ]
  },
  {
   "cell_type": "markdown",
   "metadata": {},
   "source": [
    "### SentiWordNet"
   ]
  },
  {
   "cell_type": "markdown",
   "metadata": {},
   "source": [
    "Write a function to classify the sentence by using a lemmatiser and tokenizer and SentiWordNet. Return a pair of the overall positive, and the overall negative score:"
   ]
  },
  {
   "cell_type": "code",
   "execution_count": null,
   "metadata": {},
   "outputs": [],
   "source": [
    "# Hint 1: Note that the function sentiwordnet needs Synset string\n",
    "sent = swn.senti_synset('nice.a.01')\n",
    "sent.pos_score()"
   ]
  },
  {
   "cell_type": "code",
   "execution_count": null,
   "metadata": {},
   "outputs": [],
   "source": [
    "print(wn.synsets('cat'))\n",
    "print(wn.synsets('Cats'))"
   ]
  },
  {
   "cell_type": "code",
   "execution_count": null,
   "metadata": {},
   "outputs": [],
   "source": [
    "# Hint 2  with out lemmatizer seems ok, but just to be safe, use wn_lem.lemmatize(token)\n",
    "wn_lem = WordNetLemmatizer()\n",
    "wn_lem.lemmatize('Token')"
   ]
  },
  {
   "cell_type": "code",
   "execution_count": null,
   "metadata": {},
   "outputs": [],
   "source": [
    "def classifySentence(sen):\n",
    "#...\n",
    "    return (pos, neg)"
   ]
  },
  {
   "cell_type": "markdown",
   "metadata": {},
   "source": [
    "Check your result:"
   ]
  },
  {
   "cell_type": "code",
   "execution_count": null,
   "metadata": {},
   "outputs": [],
   "source": [
    "pos, neg = classifySentence(sen1)\n",
    "print(\"Sen 1: is pos: \"+str(pos)+\" neg: \"+str(neg))"
   ]
  },
  {
   "cell_type": "code",
   "execution_count": null,
   "metadata": {},
   "outputs": [],
   "source": [
    "pos, neg = classifySentence(sen2)\n",
    "print(\"Sen 2: is pos: \"+str(pos)+\" neg: \"+str(neg))"
   ]
  },
  {
   "cell_type": "markdown",
   "metadata": {},
   "source": [
    "### VADER"
   ]
  },
  {
   "cell_type": "markdown",
   "metadata": {},
   "source": [
    "Now, do the same using VADER (also return the compound score):"
   ]
  },
  {
   "cell_type": "code",
   "execution_count": null,
   "metadata": {},
   "outputs": [],
   "source": [
    "def classifySentenceVADER(sen):\n",
    "#...\n",
    "    return (ss['pos'], ss['neg'], ss['compound'])"
   ]
  },
  {
   "cell_type": "code",
   "execution_count": null,
   "metadata": {},
   "outputs": [],
   "source": [
    "pos, neg, comp = classifySentenceVADER(sen1)\n",
    "print(\"Sen 1: is pos: \"+str(pos)+\" neg: \"+str(neg), \" overall: \", str(comp))"
   ]
  },
  {
   "cell_type": "code",
   "execution_count": null,
   "metadata": {},
   "outputs": [],
   "source": [
    "pos, neg, comp = classifySentenceVADER(sen2)\n",
    "print(\"Sen 2: is pos: \"+str(pos)+\" neg: \"+str(neg), \" overall: \", str(comp))"
   ]
  }
 ],
 "metadata": {
  "kernelspec": {
   "display_name": "Python 3",
   "language": "python",
   "name": "python3"
  },
  "language_info": {
   "codemirror_mode": {
    "name": "ipython",
    "version": 3
   },
   "file_extension": ".py",
   "mimetype": "text/x-python",
   "name": "python",
   "nbconvert_exporter": "python",
   "pygments_lexer": "ipython3",
   "version": "3.7.6"
  }
 },
 "nbformat": 4,
 "nbformat_minor": 2
}
